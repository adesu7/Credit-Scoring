{
 "cells": [
  {
   "cell_type": "markdown",
   "metadata": {
    "deletable": false,
    "editable": false,
    "nbgrader": {
     "cell_type": "markdown",
     "checksum": "9c3af8c84a7581378b63bd278d4f9017",
     "grade": false,
     "grade_id": "cell-234e5b4a6bf93edc",
     "locked": true,
     "schema_version": 3,
     "solution": false,
     "task": false
    }
   },
   "source": [
    "# FNCE30012: Foundations of Fintech - Assignment 3\n",
    "\n",
    "## Task 2\n",
    "\n",
    "### Setting\n",
    "Equifax Australia has provided us with synthetic loan application data from Australian proprietary companies. This data was generated to match the characteristics of *actual* loan applications. The Equifax data consists of two parts, which, to make it easier for you, we have merged together into one data set:\n",
    "\n",
    "1. **Company Business Trading History Data**: This first part of the data set contains historical business trading data from 25,000 Australian proprietary companies who successfully applied for a loan in 2017 or 2018.\n",
    "\n",
    "\n",
    "2. **Director Data**: This second part of the data set contains information on up to four directors of each company. In case a company has more than one director, the corresponding data has been averaged across directors at the company level.\n",
    "\n",
    "\n",
    "Since this is proprietary data that belongs to Equifax, we are not allowed to give you direct access to it. However, thanks to Jupyter Hub, you are able to access it remotely. In particular, relying on the functions introduced below, you are able to analyse the data at an aggregate level and to use it for the estimation of credit scoring models.\n",
    "\n",
    "The file called **Equifax_Data_Dictionary.xlsx** provides you with the dictionary for both company and director level data.\n"
   ]
  },
  {
   "cell_type": "markdown",
   "metadata": {
    "deletable": false,
    "editable": false,
    "nbgrader": {
     "cell_type": "markdown",
     "checksum": "d5fb38a1b85ec39e691d6e6c9110b1f4",
     "grade": false,
     "grade_id": "cell-f26d92bca42aaf1f",
     "locked": true,
     "schema_version": 3,
     "solution": false,
     "task": false
    }
   },
   "source": [
    "#### Helpful commands\n",
    "The merged Equifax dataset will be referred to by the name `assignment3a`. Please see the Jupyter notebook **Assignment_3_Lecture_Intro.ipynb** for detailed instructions on how to apply the `send_nn_request()` function to remote data. We have implemented additional functions to help you with this assignment:\n",
    "\n",
    "* `send_grouped_mean_request()`: This function returns a Pandas data frame that contains grouped means of a given variable with respect to another variable. For example, `send_grouped_mean_request(\"data\": data_set,\"var\": x, \"y\": y}` will return a data frame that contains the mean value of `y` for each existing value of `x`. It takes 3 input arguments:\n",
    "    1. `\"data\"`: A reference to the remote data set\n",
    "    2. `\"var\"`: The variable used to form groups\n",
    "    3. `\"y\"`: The output (target) variable for which to calculate means\\vspace{5pt}\n",
    "\n",
    "* `send_glm_request()`: This function outputs the detailed results of a full-fledged logistic regression model without any prior feature selection. It takes 2 input arguments:\n",
    "    1. `\"data\"`: A reference to the remote data set\n",
    "    2. `\"y\"`: The output (target) variable (dependent variable)\\vspace{5pt}\n",
    "\n",
    "* `send_logit_request()`: This function is similar to the `send_nn_request()` method, but it returns the performance measures of a remotely estimated (customised) logistic regression. It takes 5 input arguments:\n",
    "    1. `\"data\"`: A reference to the remote data set\n",
    "    2. `\"test\"`: The fraction of the remote data that should be used as test data\n",
    "    3. `\"x\"`: A list of input features (independent variables)\n",
    "    4. `\"y\"`: The output (target) variable (dependent variable)\n",
    "    5. `\"scale\"`: A boolean variable (\"True\" / \"False\") indicating if scaling should be applied to the input data\n",
    "     \n"
   ]
  },
  {
   "cell_type": "markdown",
   "metadata": {
    "deletable": false,
    "editable": false,
    "nbgrader": {
     "cell_type": "markdown",
     "checksum": "16c0cf4e588aa2ba7c9c22cb031a2c68",
     "grade": false,
     "grade_id": "cell-884c4617b8a8f4bd",
     "locked": true,
     "schema_version": 3,
     "solution": false,
     "task": false
    }
   },
   "source": [
    "#### Predefined variables\n",
    "For your convenience, we have predefined certain variables which you should reuse for this second part of the assignment:\n",
    "1. `data`: The remote Equifax data set\n",
    "2. `target`: The target variable (default indicator over 12 months): 0 means \"no default\" / 1 means \"default\"\n",
    "3. `all_features`: The complete list of available features\n",
    "\n",
    "**Note**: Please do not change the values of these variables."
   ]
  },
  {
   "cell_type": "code",
   "execution_count": 2,
   "metadata": {
    "ExecuteTime": {
     "end_time": "2020-10-29T10:04:38.891855Z",
     "start_time": "2020-10-29T10:04:38.883395Z"
    },
    "deletable": false,
    "editable": false,
    "nbgrader": {
     "cell_type": "code",
     "checksum": "276c2851ce953f061c2beaf473e02edb",
     "grade": false,
     "grade_id": "cell-08aa986257e169a8",
     "locked": true,
     "schema_version": 3,
     "solution": false,
     "task": false
    }
   },
   "outputs": [],
   "source": [
    "## Execute this cell\n",
    "\n",
    "# Predefined Variables == DO NOT EDIT THESE ==\n",
    "\n",
    "# the merged Equifax data set\n",
    "data = 'assignment3a'\n",
    "\n",
    "# the target (dependent) variable of interst (good/bad flag):\n",
    "# 0 means no default within 12 months / 1 means default\n",
    "target = 'Commercial_GBF_12m'\n",
    "\n",
    "# the complete list of available features as of the loan approval date\n",
    "# see Equifax_Data_Dictionary.xlsx for details\n",
    "all_features = ['EFX_Comp_ID',                  'loanAmt',\n",
    "                'External_Admin',               'Petitions',\n",
    "                'Writs_and_Summons',            'Writs_and_Summons_Value',\n",
    "                'Writs_and_Summons_LT_12M',     'Writs_and_Summons_LT_12M_Value',\n",
    "                'Writs_and_Summons_GT_12M',     'Writs_and_Summons_GT_12M_Value',\n",
    "                'Judgements',                   'Judgements_Value',\n",
    "                'Judgements_LT_12M',            'Judgements_LT_12M_Value',\n",
    "                'Judgements_GT_12M',            'Judgements_GT_12M_Value',\n",
    "                'Directors',                    'Defaults',\n",
    "                'Defaults_Value',               'Defaults_12',\n",
    "                'Defaults_12_Value',            'Defaults_GT_12M',\n",
    "                'Defaults_GT_12M_Value',        'Telco_Defaults_LT_12M',\n",
    "                'Telco_Defaults_LT_12M_Value',  'Utility_Defaults_LT_12M',\n",
    "                'Other_Defaults_LT_12M',        'Other_Defaults_LT_12M_Value',\n",
    "                'Defaults_Paid',                'Defaults_Paid_Value',\n",
    "                'Defaults_Unpaid',              'Defaults_Unpaid_Value',\n",
    "                'Credit_Enqry',                 'Credit_Enqry_Value',\n",
    "                'Credit_Enqry_LT_12M',          'Credit_Enqry_LT_12M_Value',\n",
    "                'Credit_Enqry_GT_12M',          'Credit_Enqry_GT_12M_Value',\n",
    "                'Broker_Enqry',                 'Broker_Enqry_Value',\n",
    "                'Broker_Enqry_LT_12M',          'Broker_Enqry_LT_12M_Value',\n",
    "                'Broker_Enqry_GT_12M',          'Broker_Enqry_GT_12M_Value',\n",
    "                'Mercantile_Enqry_LT_12M',      'Mercantile_Enqry',\n",
    "                'Mercantile_Enqry_GT_12M',      'Mercantile_Enqry_GT_12M_Value',\n",
    "                'ny7513_df_6m',                 'ny7514_df_12m',\n",
    "                'ny7516_df_60_84m',             'ny7517_df_tcut_6m',\n",
    "                'ny7518_df_tcut_12m',           'ny7520_df_tcut_60_84m',\n",
    "                'ny7568_df_sts_unpd_60_84m',    'ny7585_df_origamt_tcut_60_84m',\n",
    "                'ny7586_df_origamt_60_84m',     'ny7587_df_latamt_12m',\n",
    "                'ny7588_df_latamt_60_84m',      'ny7589_df_time_1',\n",
    "                'ny7591_df_s_1_60_84m',         'ny7601_adv_48_84m',\n",
    "                'ny7999_enq_7d',                'ny8000_enq_1m',\n",
    "                'ny8001_enq_3m',                'ny8002_enq_6m',\n",
    "                'ny8003_enq_12m',               'ny8006_enq_60m',\n",
    "                'ny8028_enq_rm_1m',             'ny8029_enq_rm_3m',\n",
    "                'ny8030_enq_rm_6m',             'ny8031_enq_rm_12m',\n",
    "                'ny8034_enq_rm_60m',            'ny8042_enq_tcut_1m',\n",
    "                'ny8043_enq_tcut_3m',           'ny8044_enq_tcut_6m',\n",
    "                'ny8045_enq_tcut_12m',          'ny8048_enq_tcut_60m',\n",
    "                'ny8049_enq_own_3m',            'ny8050_enq_own_12m',\n",
    "                'ny8056_enq_amt_1',             'ny8057_enq_amt_2',\n",
    "                'ny8059_enq_time_1',            'ny8060_enq_time_2',\n",
    "                'ny8062_enq_amt_3m',            'ny8063_enq_amt_60m',\n",
    "                'np7504_dj_60m',                'np7505_dj_time_1',\n",
    "                'np7506_dj_out_amt_60m',        'np7508_dj_out_60m',\n",
    "                'np7509_wr_48m',                'np7510_wr_out_48m',\n",
    "                'np7511_wr_60m',                'np7512_wr_out_60m',\n",
    "                'np8500_dr_cur',                'np8501_dr_time_max_cur',\n",
    "                'np8502_dr_prev_60m',           'np8508_pr_cur',\n",
    "                'np8509_dr_prev_120m_ever',     'na8905_ntb_flg',\n",
    "                'na8902_age_fle_max',           'na8904_age_fle',\n",
    "                'na8908_age_ind',               'na8920_em_time_1',\n",
    "                ]"
   ]
  },
  {
   "cell_type": "code",
   "execution_count": 1,
   "metadata": {
    "ExecuteTime": {
     "end_time": "2020-10-29T10:04:37.778211Z",
     "start_time": "2020-10-29T10:04:34.638704Z"
    },
    "deletable": false,
    "editable": false,
    "nbgrader": {
     "cell_type": "code",
     "checksum": "c0d78d2370ad3461781384defad2a095",
     "grade": false,
     "grade_id": "cell-673c8d08f0a4ba2a",
     "locked": true,
     "schema_version": 3,
     "solution": false,
     "task": false
    }
   },
   "outputs": [],
   "source": [
    "## Execute this cell\n",
    "\n",
    "# Essential libraries/packages for this part of the assignment\n",
    "from finml import *\n",
    "import numpy as np\n",
    "import pandas as pd\n",
    "import matplotlib.pyplot as plt\n",
    "%matplotlib inline\n",
    "import nest_asyncio\n",
    "from tfclient import send_nn_request, send_logit_request, send_glm_request, send_grouped_mean_request\n",
    "\n",
    "nest_asyncio.apply()\n",
    "\n",
    "# disable messages to increase output readability\n",
    "import warnings\n",
    "warnings.simplefilter(action='ignore', category=FutureWarning)\n",
    "import tensorflow as tf\n",
    "tf.get_logger().setLevel('ERROR')"
   ]
  },
  {
   "cell_type": "markdown",
   "metadata": {
    "deletable": false,
    "editable": false,
    "nbgrader": {
     "cell_type": "markdown",
     "checksum": "9c08e6e12a12fd9e3df4d500ca8d5f8b",
     "grade": false,
     "grade_id": "cell-621a0860e2488bee",
     "locked": true,
     "schema_version": 3,
     "solution": false,
     "task": false
    }
   },
   "source": [
    "## Question 8 (1 mark)\n",
    "\n",
    "***In the context of credit scoring***, define the meaning of the following classifications:\n",
    "\n",
    "* True Negative (TN)\n",
    "* True Positive (TP)\n",
    "* False Negative (FN)\n",
    "* False Positive (FP)\n",
    "\n",
    "Which risk would you rather minimise, the risk of predicting FNs or FPs?"
   ]
  },
  {
   "cell_type": "markdown",
   "metadata": {
    "deletable": false,
    "editable": false,
    "nbgrader": {
     "cell_type": "markdown",
     "checksum": "416649290c9e0644985b0b260884ddc2",
     "grade": false,
     "grade_id": "cell-6262ac283e941c23",
     "locked": true,
     "schema_version": 3,
     "solution": false,
     "task": false
    }
   },
   "source": [
    "#### Write your answer below (Remove any existing text)"
   ]
  },
  {
   "cell_type": "markdown",
   "metadata": {
    "deletable": false,
    "nbgrader": {
     "cell_type": "markdown",
     "checksum": "8a27984cb6e0d1909017721d5614a112",
     "grade": true,
     "grade_id": "cell-87d11d7ffeeee126",
     "locked": false,
     "points": 1,
     "schema_version": 3,
     "solution": true,
     "task": false
    }
   },
   "source": [
    "A True positive classification would mean that our model predicts a borrower to default and they are actually defaulters, i.e., a creditor with a low credit score is predicted as a defaulter.\n",
    "A True negative classification would result in classifying a borrower with a high credit score who would not default, and they do not default.\n",
    "False positive classification in the context of credit scoring would mean we classify a good creditor with a high credit score as they would default on the loan application.\n",
    "A False negative classification happens when we predict a bad creditor with a low credit score as they would not default.\n",
    "\n",
    "In terms of credit scoring you would want to minimise false negative, as you do not want to incorrectly give a high credit score to a defaulter which could lead to an increase in risk of loss. False positives on the other hand could be considered opportunity costs, by not lending to good business, you will only miss out on additional revenue, but it would not lead to adverse effect like default or financial loss.\n"
   ]
  },
  {
   "cell_type": "markdown",
   "metadata": {
    "deletable": false,
    "editable": false,
    "nbgrader": {
     "cell_type": "markdown",
     "checksum": "1cca2f6e43b4d2be0d2b106bab640c12",
     "grade": false,
     "grade_id": "cell-bb87ad8b698dbf8d",
     "locked": true,
     "schema_version": 3,
     "solution": false,
     "task": false
    }
   },
   "source": [
    "## Question 9 (2 marks)\n",
    "\n",
    "Use the `send_grouped_mean_request()` function to create **3 bar plots**. \n",
    "\n",
    "The first two plots should show the average default rates (`target`) depending on (i) the number of directors of the borrowing company (`Directors`), and (ii) whether the company had [petitions](https://www.thegazette.co.uk/all-notices/content/101087) (`Petitions`). \n",
    "\n",
    "The third plot should show the average loan amount (`loanAmt`) of non-defaulting and defaulting loans. Make sure all plots are appropriately formatted and that their axes are correctly labelled. What do you conclude from each plot?"
   ]
  },
  {
   "cell_type": "code",
   "execution_count": 3,
   "metadata": {
    "ExecuteTime": {
     "end_time": "2020-10-27T03:03:32.157977Z",
     "start_time": "2020-10-27T03:03:22.233915Z"
    },
    "deletable": false,
    "nbgrader": {
     "cell_type": "code",
     "checksum": "ed957099d2018b93e0ee33d6942453b4",
     "grade": true,
     "grade_id": "cell-8fe90c38f459443b",
     "locked": false,
     "points": 0,
     "schema_version": 3,
     "solution": true,
     "task": false
    }
   },
   "outputs": [
    {
     "data": {
      "application/vnd.jupyter.widget-view+json": {
       "model_id": "427287920bfd4263b795e904744cfd8b",
       "version_major": 2,
       "version_minor": 0
      },
      "text/plain": [
       "Image(value=b'GIF89aP\\x00P\\x00\\xf7\\x00\\x00\\x00\\x00\\x00\\x01\\x01\\x01\\x02\\x02\\x02\\x10\\x03\\x08\\x1d\\x04\\r5\\x06\\x16I…"
      ]
     },
     "metadata": {},
     "output_type": "display_data"
    },
    {
     "data": {
      "application/vnd.jupyter.widget-view+json": {
       "model_id": "d6470107413a479b97100f42666ab260",
       "version_major": 2,
       "version_minor": 0
      },
      "text/plain": [
       "Image(value=b'GIF89aP\\x00P\\x00\\xf7\\x00\\x00\\x00\\x00\\x00\\x01\\x01\\x01\\x02\\x02\\x02\\x10\\x03\\x08\\x1d\\x04\\r5\\x06\\x16I…"
      ]
     },
     "metadata": {},
     "output_type": "display_data"
    },
    {
     "data": {
      "application/vnd.jupyter.widget-view+json": {
       "model_id": "41cb81f652484060bbb68334396a440b",
       "version_major": 2,
       "version_minor": 0
      },
      "text/plain": [
       "Image(value=b'GIF89aP\\x00P\\x00\\xf7\\x00\\x00\\x00\\x00\\x00\\x01\\x01\\x01\\x02\\x02\\x02\\x10\\x03\\x08\\x1d\\x04\\r5\\x06\\x16I…"
      ]
     },
     "metadata": {},
     "output_type": "display_data"
    },
    {
     "data": {
      "text/plain": [
       "<Figure size 432x288 with 0 Axes>"
      ]
     },
     "metadata": {},
     "output_type": "display_data"
    },
    {
     "data": {
      "image/png": "[encoded data removed]",
      "text/plain": [
       "<Figure size 504x504 with 1 Axes>"
      ]
     },
     "metadata": {
      "needs_background": "light"
     },
     "output_type": "display_data"
    },
    {
     "data": {
      "text/plain": [
       "<Figure size 432x288 with 0 Axes>"
      ]
     },
     "metadata": {},
     "output_type": "display_data"
    },
    {
     "data": {
      "image/png": "[encoded data removed]",
      "text/plain": [
       "<Figure size 504x504 with 1 Axes>"
      ]
     },
     "metadata": {
      "needs_background": "light"
     },
     "output_type": "display_data"
    },
    {
     "data": {
      "text/plain": [
       "<Figure size 432x288 with 0 Axes>"
      ]
     },
     "metadata": {},
     "output_type": "display_data"
    },
    {
     "data": {
      "image/png": "[encoded data removed]",
      "text/plain": [
       "<Figure size 504x504 with 1 Axes>"
      ]
     },
     "metadata": {
      "needs_background": "light"
     },
     "output_type": "display_data"
    }
   ],
   "source": [
    "import matplotlib.pyplot as plt\n",
    "df_directors = pd.DataFrame(send_grouped_mean_request({\"data\":data,\"var\": 'Directors',\"y\":target}))\n",
    "df_petition = send_grouped_mean_request({\"data\":data,\"var\": 'Petitions',\"y\":target})\n",
    "df_loan = send_grouped_mean_request({\"data\":data,\"var\": target,\"y\":'loanAmt'})\n",
    "\n",
    "\n",
    "\n",
    "plot1 = plt.figure(1)\n",
    "plt.figure(figsize=(7,7))\n",
    "plt.bar(df_directors.index,df_directors[target])\n",
    "plt.xticks(df_directors.index)\n",
    "plt.xlabel('Number of Directors per Borrowing Company')\n",
    "plt.ylabel('Average Default Rates (%)')\n",
    "plt.title('Average Default Rates based on Number of Directors of Borrowing Company')\n",
    "plt.show()\n",
    "\n",
    "plot2 = plt.figure(2)\n",
    "plt.figure(figsize=(7,7))\n",
    "plt.bar(df_petition.index,df_petition[target])\n",
    "plt.xticks(df_petition.index,[\"No Petitions Against\",\"Have Petitions Against\"])\n",
    "plt.xlabel('Petions')\n",
    "plt.ylabel('Average Default Rates (%)')\n",
    "plt.title('Average Default Rates based on if Company had Petitions')\n",
    "plt.show()\n",
    "\n",
    "plot3 = plt.figure(3)\n",
    "plt.figure(figsize=(7,7))\n",
    "plt.bar(df_loan.index,df_loan['loanAmt'])\n",
    "plt.xticks(df_loan.index,[\"No Default\",\"Default\"])\n",
    "plt.xlabel('Defualt status')\n",
    "plt.ylabel('Average Loan Amt ($)')\n",
    "plt.title('Average Loan Amount of Defaulting and Non-Defaulting Companies')\n",
    "plt.show()\n"
   ]
  },
  {
   "cell_type": "markdown",
   "metadata": {
    "deletable": false,
    "editable": false,
    "nbgrader": {
     "cell_type": "markdown",
     "checksum": "c40621cff9faf922d6f2d42cae0cd428",
     "grade": false,
     "grade_id": "cell-f53ee094b071fff0",
     "locked": true,
     "schema_version": 3,
     "solution": false,
     "task": false
    }
   },
   "source": [
    "#### Write your conclusion below (Remove any existing text)"
   ]
  },
  {
   "cell_type": "markdown",
   "metadata": {
    "deletable": false,
    "nbgrader": {
     "cell_type": "markdown",
     "checksum": "273931d3f62e9294f0f3b52b581dfe4d",
     "grade": true,
     "grade_id": "cell-f2908deb0ea03bd3",
     "locked": false,
     "points": 2,
     "schema_version": 3,
     "solution": true,
     "task": false
    }
   },
   "source": [
    "The average default rates for companies with one director and four directors are 0.022% and 0.021% whereas companies with two and three directors are considerably lower at 0.014% and 0.015%. This may be due to concentration of power and decision making, in the case of companies with one director the decisions maybe not be discussed thoroughly in contrast companies with four directors, there is a dilution of control, there may be red tapism or slow decision making which impacts the business. Whereas companies with two or three directors seem to perform better with a good balance between quick decision making and good decision making.\n",
    "\n",
    "The companies with no petitions against them have a default rate of 0.019% which is considerably lower than companies with petitions against them with default rate of 0.33%. Companies with petitions are more likely to be not run well and default, since filing petitions are expensive, creditors would file petitions when the company has already defaulted payments or if they have lost faith that companies can pay them back. If these petitions are granted, then creditors have to be paid back, which can impact the liquidity of the company thereby leading them to default on payments.\n",
    "\n",
    "The average loan amount for companies that defaulted was \\\\$72570 and companies that did not default had an average loan amount marginally higher of \\\\$74542. There is no clear relation between loan amount and defaulting."
   ]
  },
  {
   "cell_type": "markdown",
   "metadata": {
    "deletable": false,
    "editable": false,
    "nbgrader": {
     "cell_type": "markdown",
     "checksum": "71c7f2bfbe204150faaceed21282fc58",
     "grade": false,
     "grade_id": "cell-ff8ffdb9e89417a0",
     "locked": true,
     "schema_version": 3,
     "solution": false,
     "task": false
    }
   },
   "source": [
    "## Question 10 (1 mark)\n",
    "\n",
    "Use the `send_glm_request()` function to run a full-fledged logistic regression model without any ex-ante feature selection.\n",
    "\n",
    "**Note**: To increase the stability of the estimation, Python will automatically omit certain variables."
   ]
  },
  {
   "cell_type": "code",
   "execution_count": 4,
   "metadata": {
    "ExecuteTime": {
     "end_time": "2020-10-23T23:02:37.940963Z",
     "start_time": "2020-10-23T23:02:31.546879Z"
    },
    "deletable": false,
    "nbgrader": {
     "cell_type": "code",
     "checksum": "dfa3ed70127e500f1eb5aae09913e375",
     "grade": true,
     "grade_id": "cell-53611669ecc90fec",
     "locked": false,
     "points": 1,
     "schema_version": 3,
     "solution": true,
     "task": false
    },
    "scrolled": true
   },
   "outputs": [
    {
     "data": {
      "application/vnd.jupyter.widget-view+json": {
       "model_id": "10fae8aa1bed4fd78e545c0923b94e0a",
       "version_major": 2,
       "version_minor": 0
      },
      "text/plain": [
       "Image(value=b'GIF89aP\\x00P\\x00\\xf7\\x00\\x00\\x00\\x00\\x00\\x01\\x01\\x01\\x02\\x02\\x02\\x10\\x03\\x08\\x1d\\x04\\r5\\x06\\x16I…"
      ]
     },
     "metadata": {},
     "output_type": "display_data"
    },
    {
     "name": "stdout",
     "output_type": "stream",
     "text": [
      "Generalized Linear Model Regression Results                  \n",
      "==============================================================================\n",
      "Dep. Variable:                      y   No. Observations:                25000\n",
      "Model:                            GLM   Df Residuals:                    24906\n",
      "Model Family:                Binomial   Df Model:                           93\n",
      "Link Function:                  logit   Scale:                          1.0000\n",
      "Method:                            nm   Log-Likelihood:                -1731.2\n",
      "Date:                Sat, 24 Oct 2020   Deviance:                       3462.4\n",
      "Time:                        10:02:37   Pearson chi2:                 1.55e+04\n",
      "No. Iterations:                   100                                         \n",
      "Covariance Type:            nonrobust                                         \n",
      "==================================================================================================\n",
      "                                     coef    std err          z      P>|z|      [0.025      0.975]\n",
      "--------------------------------------------------------------------------------------------------\n",
      "Intercept                         -4.2221      0.055    -76.186      0.000      -4.331      -4.114\n",
      "EFX_Comp_ID                       -0.0062      0.047     -0.133      0.894      -0.098       0.085\n",
      "loanAmt                           -0.0134      0.049     -0.273      0.785      -0.110       0.083\n",
      "External_Admin                     0.4760      0.017     27.866      0.000       0.443       0.509\n",
      "Petitions                          0.0463      0.016      2.877      0.004       0.015       0.078\n",
      "Writs_and_Summons                  0.0314        nan        nan        nan         nan         nan\n",
      "Writs_and_Summons_Value           -0.0118    1.7e+06  -6.97e-09      1.000   -3.32e+06    3.32e+06\n",
      "Writs_and_Summons_LT_12M           0.0328        nan        nan        nan         nan         nan\n",
      "Writs_and_Summons_LT_12M_Value    -0.0007   1.67e+06  -4.41e-10      1.000   -3.27e+06    3.27e+06\n",
      "Writs_and_Summons_GT_12M           0.0135        nan        nan        nan         nan         nan\n",
      "Writs_and_Summons_GT_12M_Value    -0.0619   3.04e+05  -2.04e-07      1.000   -5.96e+05    5.96e+05\n",
      "Judgements                         0.0122        nan        nan        nan         nan         nan\n",
      "Judgements_Value                   0.0136   1.66e+06   8.18e-09      1.000   -3.26e+06    3.26e+06\n",
      "Judgements_LT_12M                  0.0805        nan        nan        nan         nan         nan\n",
      "Judgements_LT_12M_Value           -0.0321   1.03e+06  -3.12e-08      1.000   -2.02e+06    2.02e+06\n",
      "Judgements_GT_12M                 -0.0401        nan        nan        nan         nan         nan\n",
      "Judgements_GT_12M_Value            0.0508   1.09e+06   4.65e-08      1.000   -2.14e+06    2.14e+06\n",
      "Directors                         -0.0322      0.049     -0.653      0.514      -0.129       0.065\n",
      "Defaults                           0.0194   4.34e+05   4.46e-08      1.000   -8.51e+05    8.51e+05\n",
      "Defaults_Value                    -0.0348        nan        nan        nan         nan         nan\n",
      "Defaults_12                        0.0395        nan        nan        nan         nan         nan\n",
      "Defaults_12_Value                 -0.2663   6.28e+05  -4.24e-07      1.000   -1.23e+06    1.23e+06\n",
      "Defaults_GT_12M                   -0.0013        nan        nan        nan         nan         nan\n",
      "Defaults_GT_12M_Value              0.0928   1.27e+06   7.29e-08      1.000   -2.49e+06    2.49e+06\n",
      "Telco_Defaults_LT_12M              0.0022        nan        nan        nan         nan         nan\n",
      "Telco_Defaults_LT_12M_Value       -0.0028      0.128     -0.022      0.982      -0.254       0.248\n",
      "Utility_Defaults_LT_12M            0.0136        nan        nan        nan         nan         nan\n",
      "Other_Defaults_LT_12M              0.0500        nan        nan        nan         nan         nan\n",
      "Other_Defaults_LT_12M_Value        0.2764      1.272      0.217      0.828      -2.218       2.770\n",
      "Defaults_Paid                      0.0019        nan        nan        nan         nan         nan\n",
      "Defaults_Paid_Value               -0.0282        nan        nan        nan         nan         nan\n",
      "Defaults_Unpaid                    0.0278        nan        nan        nan         nan         nan\n",
      "Defaults_Unpaid_Value             -0.0247        nan        nan        nan         nan         nan\n",
      "Credit_Enqry                       0.0697   2.02e+06   3.44e-08      1.000   -3.96e+06    3.96e+06\n",
      "Credit_Enqry_Value                -0.0330        nan        nan        nan         nan         nan\n",
      "Credit_Enqry_LT_12M                0.0593   6.76e+05   8.77e-08      1.000   -1.33e+06    1.33e+06\n",
      "Credit_Enqry_LT_12M_Value         -0.0764        nan        nan        nan         nan         nan\n",
      "Credit_Enqry_GT_12M                0.0631    1.6e+06   3.94e-08      1.000   -3.14e+06    3.14e+06\n",
      "Credit_Enqry_GT_12M_Value          0.0119        nan        nan        nan         nan         nan\n",
      "Broker_Enqry                       0.0320    2.5e+06   1.28e-08      1.000   -4.89e+06    4.89e+06\n",
      "Broker_Enqry_Value                -0.0289        nan        nan        nan         nan         nan\n",
      "Broker_Enqry_LT_12M                0.0847   1.02e+06   8.28e-08      1.000      -2e+06       2e+06\n",
      "Broker_Enqry_LT_12M_Value         -0.0264        nan        nan        nan         nan         nan\n",
      "Broker_Enqry_GT_12M               -0.0032   2.07e+06  -1.52e-09      1.000   -4.07e+06    4.07e+06\n",
      "Broker_Enqry_GT_12M_Value         -0.0121        nan        nan        nan         nan         nan\n",
      "Mercantile_Enqry_LT_12M           -0.0998      0.280     -0.357      0.721      -0.648       0.449\n",
      "Mercantile_Enqry                   0.2759      0.683      0.404      0.686      -1.062       1.614\n",
      "Mercantile_Enqry_GT_12M           -0.2802      0.765     -0.366      0.714      -1.780       1.219\n",
      "Mercantile_Enqry_GT_12M_Value      0.1449      0.407      0.356      0.721      -0.652       0.942\n",
      "ny7513_df_6m                      -0.0686      0.056     -1.216      0.224      -0.179       0.042\n",
      "ny7514_df_12m                     -0.0183      0.076     -0.241      0.809      -0.167       0.131\n",
      "ny7516_df_60_84m                   0.0956      0.112      0.853      0.394      -0.124       0.315\n",
      "ny7517_df_tcut_6m                 -0.0160      0.087     -0.184      0.854      -0.187       0.155\n",
      "ny7518_df_tcut_12m                 0.0206      0.048      0.433      0.665      -0.073       0.114\n",
      "ny7520_df_tcut_60_84m             -0.0924      0.073     -1.272      0.203      -0.235       0.050\n",
      "ny7568_df_sts_unpd_60_84m          0.0856      0.089      0.967      0.334      -0.088       0.259\n",
      "ny7585_df_origamt_tcut_60_84m      0.0337      0.038      0.899      0.368      -0.040       0.107\n",
      "ny7586_df_origamt_60_84m          -0.1782      1.767     -0.101      0.920      -3.641       3.284\n",
      "ny7587_df_latamt_12m               0.0276      0.049      0.567      0.570      -0.068       0.123\n",
      "ny7588_df_latamt_60_84m            0.0644      1.727      0.037      0.970      -3.321       3.450\n",
      "ny7589_df_time_1                  -0.1785      0.078     -2.277      0.023      -0.332      -0.025\n",
      "ny7591_df_s_1_60_84m              -0.0502      0.094     -0.533      0.594      -0.235       0.134\n",
      "ny7601_adv_48_84m                  0.1692      0.075      2.260      0.024       0.022       0.316\n",
      "ny7999_enq_7d                      0.0897      0.064      1.404      0.160      -0.036       0.215\n",
      "ny8000_enq_1m                     -0.0287      0.077     -0.372      0.710      -0.180       0.122\n",
      "ny8001_enq_3m                      0.0318      0.093      0.343      0.731      -0.150       0.213\n",
      "ny8002_enq_6m                     -0.0856      0.107     -0.798      0.425      -0.296       0.125\n",
      "ny8003_enq_12m                     0.1959      0.108      1.819      0.069      -0.015       0.407\n",
      "ny8006_enq_60m                     0.0004      0.090      0.004      0.997      -0.176       0.177\n",
      "ny8028_enq_rm_1m                   0.0265      0.054      0.494      0.621      -0.079       0.132\n",
      "ny8029_enq_rm_3m                   0.0416      0.087      0.476      0.634      -0.130       0.213\n",
      "ny8030_enq_rm_6m                  -0.0378      0.105     -0.361      0.718      -0.243       0.168\n",
      "ny8031_enq_rm_12m                 -0.0409      0.085     -0.483      0.629      -0.207       0.125\n",
      "ny8034_enq_rm_60m                 -0.0141      0.056     -0.252      0.801      -0.124       0.096\n",
      "ny8042_enq_tcut_1m                -0.0387      0.080     -0.482      0.630      -0.196       0.118\n",
      "ny8043_enq_tcut_3m                 0.0233      0.048      0.491      0.624      -0.070       0.117\n",
      "ny8044_enq_tcut_6m                -0.0303      0.052     -0.578      0.563      -0.133       0.073\n",
      "ny8045_enq_tcut_12m                0.0694      0.049      1.413      0.158      -0.027       0.166\n",
      "ny8048_enq_tcut_60m               -0.0367      0.051     -0.725      0.469      -0.136       0.063\n",
      "ny8049_enq_own_3m                  0.0295      0.072      0.412      0.681      -0.111       0.170\n",
      "ny8050_enq_own_12m                -0.1138      0.068     -1.677      0.094      -0.247       0.019\n",
      "ny8056_enq_amt_1                   0.0036      0.060      0.061      0.952      -0.113       0.121\n",
      "ny8057_enq_amt_2                  -0.0263      0.068     -0.389      0.697      -0.159       0.106\n",
      "ny8059_enq_time_1                 -0.0041      0.068     -0.060      0.952      -0.137       0.128\n",
      "ny8060_enq_time_2                 -0.0641      0.067     -0.957      0.338      -0.195       0.067\n",
      "ny8062_enq_amt_3m                 -0.0177      0.076     -0.233      0.815      -0.167       0.131\n",
      "ny8063_enq_amt_60m                -0.0036      0.064     -0.057      0.955      -0.128       0.121\n",
      "np7504_dj_60m                     -0.0056      0.083     -0.068      0.946      -0.168       0.157\n",
      "np7505_dj_time_1                  -0.0775      0.051     -1.529      0.126      -0.177       0.022\n",
      "np7506_dj_out_amt_60m              0.0344      0.020      1.725      0.084      -0.005       0.073\n",
      "np7508_dj_out_60m                  0.0307      0.070      0.439      0.661      -0.106       0.168\n",
      "np7509_wr_48m                     -0.2180      0.368     -0.593      0.553      -0.938       0.502\n",
      "np7510_wr_out_48m                  0.2039      0.312      0.653      0.514      -0.408       0.816\n",
      "np7511_wr_60m                      0.2419      0.413      0.586      0.558      -0.567       1.051\n",
      "np7512_wr_out_60m                 -0.1995      0.348     -0.573      0.566      -0.881       0.483\n",
      "np8500_dr_cur                     -0.0743      0.067     -1.109      0.267      -0.205       0.057\n",
      "np8501_dr_time_max_cur            -0.0692      0.071     -0.969      0.333      -0.209       0.071\n",
      "np8502_dr_prev_60m                 0.0063      0.055      0.114      0.909      -0.102       0.114\n",
      "np8508_pr_cur                     -0.0053      0.048     -0.110      0.913      -0.099       0.089\n",
      "np8509_dr_prev_120m_ever           0.0317      0.066      0.484      0.628      -0.097       0.160\n",
      "na8905_ntb_flg                     0.0315      0.040      0.790      0.430      -0.047       0.110\n",
      "na8902_age_fle_max                -0.1082      0.451     -0.240      0.810      -0.993       0.776\n",
      "na8904_age_fle                    -0.0188      0.449     -0.042      0.967      -0.898       0.860\n",
      "na8908_age_ind                     0.0674      0.072      0.936      0.349      -0.074       0.209\n",
      "na8920_em_time_1                  -0.0644      0.058     -1.105      0.269      -0.179       0.050\n",
      "na8921_ad_time_1                  -0.0069      0.058     -0.119      0.906      -0.121       0.107\n",
      "ny8056_enq_amt_1_is_1             -0.0168      0.044     -0.384      0.701      -0.103       0.069\n",
      "==================================================================================================\n"
     ]
    },
    {
     "data": {
      "text/plain": [
       "(None, None, {}, {})"
      ]
     },
     "execution_count": 4,
     "metadata": {},
     "output_type": "execute_result"
    }
   ],
   "source": [
    "send_glm_request({\"data\":data,\"y\":target})\n"
   ]
  },
  {
   "cell_type": "markdown",
   "metadata": {
    "deletable": false,
    "editable": false,
    "nbgrader": {
     "cell_type": "markdown",
     "checksum": "709dcf4edfe4be04fa5ec88e2eec6bc8",
     "grade": false,
     "grade_id": "cell-05541c7084438ee8",
     "locked": true,
     "schema_version": 3,
     "solution": false,
     "task": false
    }
   },
   "source": [
    "## Question 11 (2 marks)\n",
    "\n",
    "Use the `send_logit_request()` function to run a logit (logistic) model with the following specifications:\n",
    "\n",
    "* Relative size of test data: 20%\n",
    "* Only use the features from Question 4 with a significance level below 10%\n",
    "* Applies scaling\n",
    "\n",
    "Evaluate the testing performance of your logit (logistic) model."
   ]
  },
  {
   "cell_type": "code",
   "execution_count": 4,
   "metadata": {
    "ExecuteTime": {
     "end_time": "2020-10-27T03:40:39.062106Z",
     "start_time": "2020-10-27T03:40:32.086392Z"
    },
    "deletable": false,
    "nbgrader": {
     "cell_type": "code",
     "checksum": "5fcf3fb7f5740b42fbf5d4deec106b80",
     "grade": true,
     "grade_id": "cell-843cd3557a2a75d5",
     "locked": false,
     "points": 0,
     "schema_version": 3,
     "solution": true,
     "task": false
    },
    "scrolled": true
   },
   "outputs": [
    {
     "data": {
      "application/vnd.jupyter.widget-view+json": {
       "model_id": "059761ffcd36484fa442bf1881620ebd",
       "version_major": 2,
       "version_minor": 0
      },
      "text/plain": [
       "Image(value=b'GIF89aP\\x00P\\x00\\xf7\\x00\\x00\\x00\\x00\\x00\\x01\\x01\\x01\\x02\\x02\\x02\\x10\\x03\\x08\\x1d\\x04\\r5\\x06\\x16I…"
      ]
     },
     "metadata": {},
     "output_type": "display_data"
    },
    {
     "name": "stdout",
     "output_type": "stream",
     "text": [
      "########################################\n",
      "############## Test Set: ###############\n",
      "########################################\n",
      "Precision:  0.8421052631578947\n",
      "Recall:  0.1509433962264151\n",
      "Accuracy Score:  0.9814\n",
      "roc_auc:  0.7953288971478361\n",
      "Confusion matrix: \n",
      "[[4891    3]\n",
      " [  90   16]]\n",
      "\n",
      "########################################\n",
      "############## Train Set: ##############\n",
      "########################################\n",
      "Precision:  0.5740740740740741\n",
      "Recall:  0.0792838874680307\n",
      "Accuracy Score:  0.98085\n",
      "roc_auc:  0.8078492064620362\n",
      "Confusion matrix: \n",
      "[[19586    23]\n",
      " [  360    31]]\n"
     ]
    },
    {
     "data": {
      "text/plain": [
       "({'precision': 0.5740740740740741,\n",
       "  'recall': 0.0792838874680307,\n",
       "  'accuracy': 0.98085,\n",
       "  'roc': 0.8078492064620362},\n",
       " {'precision': 0.8421052631578947,\n",
       "  'recall': 0.1509433962264151,\n",
       "  'accuracy': 0.9814,\n",
       "  'roc': 0.7953288971478361})"
      ]
     },
     "execution_count": 4,
     "metadata": {},
     "output_type": "execute_result"
    }
   ],
   "source": [
    "sig_features=['External_Admin','Petitions','ny7589_df_time_1','ny7601_adv_48_84m',\n",
    "              'ny8003_enq_12m','ny8050_enq_own_12m','np7506_dj_out_amt_60m']\n",
    "send_logit_request({\"data\":data,\"test\":0.2,\"x\":sig_features,\"y\":target,\"scale\":True})"
   ]
  },
  {
   "cell_type": "markdown",
   "metadata": {
    "deletable": false,
    "editable": false,
    "nbgrader": {
     "cell_type": "markdown",
     "checksum": "b3b86778185f8e1a0a473f415dab7854",
     "grade": false,
     "grade_id": "cell-8fd76a0edb2d856c",
     "locked": true,
     "schema_version": 3,
     "solution": false,
     "task": false
    }
   },
   "source": [
    "#### Write your evaluation below (Remove any existing text)"
   ]
  },
  {
   "cell_type": "markdown",
   "metadata": {
    "deletable": false,
    "nbgrader": {
     "cell_type": "markdown",
     "checksum": "96ba8487d9e489465ff6ca03c35f294c",
     "grade": true,
     "grade_id": "cell-729167bcbc37297f",
     "locked": false,
     "points": 2,
     "schema_version": 3,
     "solution": true,
     "task": false
    }
   },
   "source": [
    "An accuracy score of 98.14% implies that our logit model predicts true positves and false positves extremely accurately, i.e, distinguish between good and bad creditors accurately most of the time. We obtain a high precision score of 0.833, which means our model is able to accurately predict true positives (defaulters) and minimise the false positives (reduce opportunity cost). \n",
    "We observe a very low recall score of 0.151 which implies our model is only able to correctly identify 15.1% of all defaulters as they would default, this happens due to a high false negative rate, i.e, is predict a bad loan application would not default. We want a model with low false negatives so we can avoid high financial losses. Hence even with a high area under ROC curve of 0.79, we can conclude that we have a poor model based on our recall score which indicates as we are not able to effectively minimise the false negative rates.\n"
   ]
  },
  {
   "cell_type": "markdown",
   "metadata": {
    "deletable": false,
    "editable": false,
    "nbgrader": {
     "cell_type": "markdown",
     "checksum": "c3905f12548f6e517a08c3998d9cd959",
     "grade": false,
     "grade_id": "cell-3e36ccbadd4dffd6",
     "locked": true,
     "schema_version": 3,
     "solution": false,
     "task": false
    }
   },
   "source": [
    "## Question 12 (4 marks)\n",
    "\n",
    "Write a for-loop that uses the `send_nn_request()` function to estimate a series of full-fledged neural networks with the following specifications:\n",
    "\n",
    "* Number of layers: 1\n",
    "* Number of units: 1, 4, 16, 128, 256\n",
    "* Relative size of test data: 20%\n",
    "* Use all existing features\n",
    "* Apply scaling\n",
    "\n",
    "Generate one plot that shows each model's AUC (`roc_auc`), both for testing and training. What is your conclusion?\n",
    "\n",
    "**Note**: Some outputs of the `send_nn_request()` function are returned as strings and need to be converted to floats before plotting."
   ]
  },
  {
   "cell_type": "code",
   "execution_count": 9,
   "metadata": {
    "ExecuteTime": {
     "end_time": "2020-10-29T10:15:18.046099Z",
     "start_time": "2020-10-29T10:13:47.920188Z"
    },
    "deletable": false,
    "nbgrader": {
     "cell_type": "code",
     "checksum": "6054b077b2248cf549d640b43af7881e",
     "grade": true,
     "grade_id": "cell-de8c037b8ea395d2",
     "locked": false,
     "points": 0,
     "schema_version": 3,
     "solution": true,
     "task": false
    },
    "scrolled": true
   },
   "outputs": [
    {
     "name": "stdout",
     "output_type": "stream",
     "text": [
      "1 0\n"
     ]
    },
    {
     "data": {
      "application/vnd.jupyter.widget-view+json": {
       "model_id": "d3e11a229c6747f588dfa057da9a0130",
       "version_major": 2,
       "version_minor": 0
      },
      "text/plain": [
       "Image(value=b'GIF89aP\\x00P\\x00\\xf7\\x00\\x00\\x00\\x00\\x00\\x01\\x01\\x01\\x02\\x02\\x02\\x10\\x03\\x08\\x1d\\x04\\r5\\x06\\x16I…"
      ]
     },
     "metadata": {},
     "output_type": "display_data"
    },
    {
     "name": "stdout",
     "output_type": "stream",
     "text": [
      "Model: \"sequential\"\n",
      "_________________________________________________________________\n",
      "Layer (type)                 Output Shape              Param #   \n",
      "=================================================================\n",
      "dense (Dense)                (None, 1)                 105       \n",
      "_________________________________________________________________\n",
      "dense_1 (Dense)              (None, 1)                 2         \n",
      "=================================================================\n",
      "Total params: 107\n",
      "Trainable params: 107\n",
      "Non-trainable params: 0\n",
      "_________________________________________________________________\n",
      "Training Completed\n",
      "########################################\n",
      "############## Test Set: ###############\n",
      "########################################\n",
      "Precision:  0.3333333333333333\n",
      "Recall:  0.018867924528301886\n",
      "Accuracy Score:  0.9784\n",
      "roc_auc:  0.7137976035345552\n",
      "Loss: 0.37014007568359375\n",
      "Confusion matrix: \n",
      "[[4890    4]\n",
      " [ 104    2]]\n",
      "\n",
      "########################################\n",
      "############## Train Set: ##############\n",
      "########################################\n",
      "Precision:  0.7894736842105263\n",
      "Recall:  0.03836317135549872\n",
      "Accuracy Score:  0.981\n",
      "roc_auc:  0.7206608505750336\n",
      "Loss: 0.36860671639442444\n",
      "Confusion matrix: \n",
      "[[19605     4]\n",
      " [  376    15]]\n",
      "\n",
      "\n",
      "4 1\n"
     ]
    },
    {
     "data": {
      "application/vnd.jupyter.widget-view+json": {
       "model_id": "a902eaf72ed5458b85f728798a2164a9",
       "version_major": 2,
       "version_minor": 0
      },
      "text/plain": [
       "Image(value=b'GIF89aP\\x00P\\x00\\xf7\\x00\\x00\\x00\\x00\\x00\\x01\\x01\\x01\\x02\\x02\\x02\\x10\\x03\\x08\\x1d\\x04\\r5\\x06\\x16I…"
      ]
     },
     "metadata": {},
     "output_type": "display_data"
    },
    {
     "name": "stdout",
     "output_type": "stream",
     "text": [
      "Model: \"sequential\"\n",
      "_________________________________________________________________\n",
      "Layer (type)                 Output Shape              Param #   \n",
      "=================================================================\n",
      "dense (Dense)                (None, 4)                 420       \n",
      "_________________________________________________________________\n",
      "dense_1 (Dense)              (None, 1)                 5         \n",
      "=================================================================\n",
      "Total params: 425\n",
      "Trainable params: 425\n",
      "Non-trainable params: 0\n",
      "_________________________________________________________________\n",
      "Training Completed\n",
      "########################################\n",
      "############## Test Set: ###############\n",
      "########################################\n",
      "Precision:  0.46153846153846156\n",
      "Recall:  0.11320754716981132\n",
      "Accuracy Score:  0.9784\n",
      "roc_auc:  0.7886283550901758\n",
      "Loss: 0.09224651753902435\n",
      "Confusion matrix: \n",
      "[[4880   14]\n",
      " [  94   12]]\n",
      "\n",
      "########################################\n",
      "############## Train Set: ##############\n",
      "########################################\n",
      "Precision:  0.7605633802816901\n",
      "Recall:  0.13810741687979539\n",
      "Accuracy Score:  0.9823\n",
      "roc_auc:  0.802998231799976\n",
      "Loss: 0.08588798344135284\n",
      "Confusion matrix: \n",
      "[[19592    17]\n",
      " [  337    54]]\n",
      "\n",
      "\n",
      "16 2\n"
     ]
    },
    {
     "data": {
      "application/vnd.jupyter.widget-view+json": {
       "model_id": "28e4a69d6a3645c9aa702012ba8cefc5",
       "version_major": 2,
       "version_minor": 0
      },
      "text/plain": [
       "Image(value=b'GIF89aP\\x00P\\x00\\xf7\\x00\\x00\\x00\\x00\\x00\\x01\\x01\\x01\\x02\\x02\\x02\\x10\\x03\\x08\\x1d\\x04\\r5\\x06\\x16I…"
      ]
     },
     "metadata": {},
     "output_type": "display_data"
    },
    {
     "name": "stdout",
     "output_type": "stream",
     "text": [
      "Model: \"sequential\"\n",
      "_________________________________________________________________\n",
      "Layer (type)                 Output Shape              Param #   \n",
      "=================================================================\n",
      "dense (Dense)                (None, 16)                1680      \n",
      "_________________________________________________________________\n",
      "dense_1 (Dense)              (None, 1)                 17        \n",
      "=================================================================\n",
      "Total params: 1,697\n",
      "Trainable params: 1,697\n",
      "Non-trainable params: 0\n",
      "_________________________________________________________________\n",
      "Training Completed\n",
      "########################################\n",
      "############## Test Set: ###############\n",
      "########################################\n",
      "Precision:  0.5333333333333333\n",
      "Recall:  0.22641509433962265\n",
      "Accuracy Score:  0.9794\n",
      "roc_auc:  0.825255800325389\n",
      "Loss: 0.08054833114147186\n",
      "Confusion matrix: \n",
      "[[4873   21]\n",
      " [  82   24]]\n",
      "\n",
      "########################################\n",
      "############## Train Set: ##############\n",
      "########################################\n",
      "Precision:  0.6233766233766234\n",
      "Recall:  0.24552429667519182\n",
      "Accuracy Score:  0.98235\n",
      "roc_auc:  0.8280727089275645\n",
      "Loss: 0.07059315592050552\n",
      "Confusion matrix: \n",
      "[[19551    58]\n",
      " [  295    96]]\n",
      "\n",
      "\n",
      "128 3\n"
     ]
    },
    {
     "data": {
      "application/vnd.jupyter.widget-view+json": {
       "model_id": "ff37582909954fe7b534b8857bd61e09",
       "version_major": 2,
       "version_minor": 0
      },
      "text/plain": [
       "Image(value=b'GIF89aP\\x00P\\x00\\xf7\\x00\\x00\\x00\\x00\\x00\\x01\\x01\\x01\\x02\\x02\\x02\\x10\\x03\\x08\\x1d\\x04\\r5\\x06\\x16I…"
      ]
     },
     "metadata": {},
     "output_type": "display_data"
    },
    {
     "name": "stdout",
     "output_type": "stream",
     "text": [
      "Model: \"sequential\"\n",
      "_________________________________________________________________\n",
      "Layer (type)                 Output Shape              Param #   \n",
      "=================================================================\n",
      "dense (Dense)                (None, 128)               13440     \n",
      "_________________________________________________________________\n",
      "dense_1 (Dense)              (None, 1)                 129       \n",
      "=================================================================\n",
      "Total params: 13,569\n",
      "Trainable params: 13,569\n",
      "Non-trainable params: 0\n",
      "_________________________________________________________________\n",
      "Training Completed\n",
      "########################################\n",
      "############## Test Set: ###############\n",
      "########################################\n",
      "Precision:  0.5588235294117647\n",
      "Recall:  0.1792452830188679\n",
      "Accuracy Score:  0.9796\n",
      "roc_auc:  0.8100706679723344\n",
      "Loss: 0.08344747126102448\n",
      "Confusion matrix: \n",
      "[[4879   15]\n",
      " [  87   19]]\n",
      "\n",
      "########################################\n",
      "############## Train Set: ##############\n",
      "########################################\n",
      "Precision:  0.6923076923076923\n",
      "Recall:  0.2531969309462916\n",
      "Accuracy Score:  0.9832\n",
      "roc_auc:  0.8450194264625344\n",
      "Loss: 0.06649138033390045\n",
      "Confusion matrix: \n",
      "[[19565    44]\n",
      " [  292    99]]\n",
      "\n",
      "\n",
      "256 4\n"
     ]
    },
    {
     "data": {
      "application/vnd.jupyter.widget-view+json": {
       "model_id": "00f95aaff20942799bfafca04621d884",
       "version_major": 2,
       "version_minor": 0
      },
      "text/plain": [
       "Image(value=b'GIF89aP\\x00P\\x00\\xf7\\x00\\x00\\x00\\x00\\x00\\x01\\x01\\x01\\x02\\x02\\x02\\x10\\x03\\x08\\x1d\\x04\\r5\\x06\\x16I…"
      ]
     },
     "metadata": {},
     "output_type": "display_data"
    },
    {
     "name": "stdout",
     "output_type": "stream",
     "text": [
      "Model: \"sequential\"\n",
      "_________________________________________________________________\n",
      "Layer (type)                 Output Shape              Param #   \n",
      "=================================================================\n",
      "dense (Dense)                (None, 256)               26880     \n",
      "_________________________________________________________________\n",
      "dense_1 (Dense)              (None, 1)                 257       \n",
      "=================================================================\n",
      "Total params: 27,137\n",
      "Trainable params: 27,137\n",
      "Non-trainable params: 0\n",
      "_________________________________________________________________\n",
      "Training Completed\n",
      "########################################\n",
      "############## Test Set: ###############\n",
      "########################################\n",
      "Precision:  0.6176470588235294\n",
      "Recall:  0.19811320754716982\n",
      "Accuracy Score:  0.9804\n",
      "roc_auc:  0.7975717281846851\n",
      "Loss: 0.0864272192120552\n",
      "Confusion matrix: \n",
      "[[4881   13]\n",
      " [  85   21]]\n",
      "\n",
      "########################################\n",
      "############## Train Set: ##############\n",
      "########################################\n",
      "Precision:  0.6764705882352942\n",
      "Recall:  0.23529411764705882\n",
      "Accuracy Score:  0.98285\n",
      "roc_auc:  0.8433890878699026\n",
      "Loss: 0.06746810674667358\n",
      "Confusion matrix: \n",
      "[[19565    44]\n",
      " [  299    92]]\n",
      "\n",
      "\n"
     ]
    },
    {
     "data": {
      "text/plain": [
       "<matplotlib.legend.Legend at 0x7f6b6017cbb0>"
      ]
     },
     "execution_count": 9,
     "metadata": {},
     "output_type": "execute_result"
    },
    {
     "data": {
      "text/plain": [
       "<Figure size 432x288 with 0 Axes>"
      ]
     },
     "metadata": {},
     "output_type": "display_data"
    },
    {
     "data": {
      "image/png": "[encoded data removed]",
      "text/plain": [
       "<Figure size 1800x864 with 1 Axes>"
      ]
     },
     "metadata": {
      "needs_background": "light"
     },
     "output_type": "display_data"
    }
   ],
   "source": [
    "units = [1,4,16,128,256]\n",
    "training_res=[\"-\",\"-\",\"-\",\"-\",\"-\"]\n",
    "testing_res = [\"-\",\"-\",\"-\",\"-\",\"-\"]\n",
    "for i in units:\n",
    "    a = units.index(i)\n",
    "    print(i,a)\n",
    "    #define parameters and send request to server\n",
    "    params = {\"data\": data, \"layers\": 1, \"units\": i, \"test\": 0.2, \n",
    "          \"x\": all_features, \"y\": target, \"scale\": True, \"verbose\": 0}\n",
    "    # send request to server\n",
    "    (model, scaler, training, testing) = send_nn_request(params)\n",
    "    training_res[a]=(training)\n",
    "    testing_res[a]= (testing) \n",
    "    \n",
    "testing_res\n",
    "tests_auc = []\n",
    "training_auc = []\n",
    "for test in testing_res:\n",
    "    tests_auc.append(test['roc'])\n",
    "for train in training_res:    \n",
    "    training_auc.append(train['roc'])\n",
    "roc_auc =[]\n",
    "for auc in range(len(tests_auc)):\n",
    "    tr = training_auc[auc]\n",
    "    te = tests_auc[auc]\n",
    "    temp = (tr,te)\n",
    "    roc_auc.append(temp)\n",
    "\n",
    "# Plotting ROC's\n",
    "\n",
    "x=pd.DataFrame()\n",
    "y=np.array(tests_auc)\n",
    "z=np.array(training_auc)\n",
    "x['Units']=np.array(units)\n",
    "x['Training AUC']=z\n",
    "x['Testing AUC'] = y\n",
    "x.set_index('Units',inplace = True)\n",
    "x\n",
    "plot_auc = plt.figure(4)\n",
    "plt.figure(figsize=(25,12))\n",
    "plt.plot(x['Training AUC'])\n",
    "plt.plot(x['Testing AUC'])\n",
    "plt.xticks(x.index)\n",
    "plt.xlabel(\"Number of Units\")\n",
    "plt.ylabel(\"Area under the Curve\")\n",
    "plt.title(\"Testing and Training AUC for NN Models Based on Units\")\n",
    "plt.legend(x)\n"
   ]
  },
  {
   "cell_type": "markdown",
   "metadata": {
    "deletable": false,
    "editable": false,
    "nbgrader": {
     "cell_type": "markdown",
     "checksum": "c771b06eb698b99cb528da23f1dc15f7",
     "grade": false,
     "grade_id": "cell-57787b81b1e4a0ae",
     "locked": true,
     "schema_version": 3,
     "solution": false,
     "task": false
    }
   },
   "source": [
    "#### Write your conclusion below (Remove any existing text)"
   ]
  },
  {
   "cell_type": "markdown",
   "metadata": {
    "deletable": false,
    "nbgrader": {
     "cell_type": "markdown",
     "checksum": "e7eed06c05844a1fab3add59ebbf6f81",
     "grade": true,
     "grade_id": "cell-0fb076078f2a548a",
     "locked": false,
     "points": 4,
     "schema_version": 3,
     "solution": true,
     "task": false
    }
   },
   "source": [
    "We observe both testing and training performance improve until we use 16 units, but increasing neurons beyond that results in testing performance to consistently fall while training performance improves, in this case our model starts to overfit (high variance and low bias). High in sample performance is an indicator of overfitting, overfitting leads to poor performance of our neural network when new or unseen data set is introduced. We can prevent overfitting by simplifying our model and use 16 units or by carrying out a cross validation i.e., splitting our training data into smaller test-train splits and evaluate them, this will help in fine tuning our model."
   ]
  },
  {
   "cell_type": "markdown",
   "metadata": {
    "deletable": false,
    "editable": false,
    "nbgrader": {
     "cell_type": "markdown",
     "checksum": "7e8a036521c7037ed8e2274beea90f21",
     "grade": false,
     "grade_id": "cell-fffcb8663d442b09",
     "locked": true,
     "schema_version": 3,
     "solution": false,
     "task": false
    }
   },
   "source": [
    "## Question 13 (3 marks)\n",
    "\n",
    "The average loan amount across the Equifax sample equals approximately $75,000. Furthermore, let us make the following simplifying assumptions:\n",
    "\n",
    "1. The interest rate charged for each loan is 5\\% per year\n",
    "2. Each loan has a duration of one year\n",
    "3. If a loan defaults, the total amount is lost (zero recovery) and no interest payments occur\n",
    "4. A loan application only gets granted, if the respective model predicts no default\n",
    "5. Each granted loan costs the lender 1\\% per year to issue\n",
    "\n",
    "You are running a business that lends loans of $75,000 to small companies.\n",
    "\n",
    "* Based on the above 20\\% **testing data**, what would be the difference in your income if you were using either the logit model predictions (Question 11) or the neural network predictions based on **16 units** (Question 12)?\n",
    "* At what recovery rate would to two model predictions yield the same income?\n",
    "\n",
    "**Note:** For your calculations, you can neglect any time-value-of-money effects. The recovery rate is defined as the percentage of the loan amount that the lender is able to recover in the case of default."
   ]
  },
  {
   "cell_type": "markdown",
   "metadata": {
    "deletable": false,
    "editable": false,
    "nbgrader": {
     "cell_type": "markdown",
     "checksum": "f918067475b38fc2f0b8ce5089c2a946",
     "grade": false,
     "grade_id": "cell-262b4e6687aefe22",
     "locked": true,
     "schema_version": 3,
     "solution": false,
     "task": false
    }
   },
   "source": [
    "#### Write your answer below (Remove any existing text)"
   ]
  },
  {
   "cell_type": "markdown",
   "metadata": {
    "deletable": false,
    "nbgrader": {
     "cell_type": "markdown",
     "checksum": "c21fe91f4f88e4acd54413541d46774c",
     "grade": true,
     "grade_id": "cell-ac41c5fb4926e174",
     "locked": false,
     "points": 3,
     "schema_version": 3,
     "solution": true,
     "task": false
    }
   },
   "source": [
    "Since loans with no default predictions are granted we need to look at the true negative and false negative values of our confusion matrix, true negative values would be the loans with no default and earn 5% interest while false negative value would be loans that default and we lose the entire loan amount.\\\n",
    "Logit Function Confusion Matrix:\\\n",
    "[[4891    3]\\\n",
    " [  90   16]]\\\n",
    "NN Confusion Matrix:\\\n",
    "[[4873   21]\\\n",
    " [  82   24]]\n",
    "\n",
    "Logit Function Income:\\\n",
    "Revenue = 4891 * 0.05 * 75000 = 18341250\\\\$ \\\n",
    "Loss = 4981 * 75000 * 0.01 +( 75000* 90) = 10485750\\\\$\\\n",
    "Income = Revenue - Loss = 7855500\\\\$\\\n",
    "Neural Network Income:\\\n",
    "Revenue = 4873 * 75000 * 0.05 = 18273750\\\\$\\\n",
    "Loss = 4955 * 0.01 * 75000 + 82 * 75000 = 9866250\\\\$\\\n",
    "Income = Revenue - Loss = 8407500\\\\$\\\n",
    "Difference in income from using logit function instead of neural network is (-)\\\\$552000.\n",
    "\n",
    "Let the recovery rate be m\n",
    "\n",
    "7855500 + (90 * 75000)m = 8407500 + (82 * 75000)m\\\n",
    "        600000 m = 552000\\\n",
    "        m = 0.92\\\n",
    "When the recovery rate is 0.92 or 92\\% income from logit function and neural network will be the same, we get such a high value because when there is a gain our additional income is 75000 * 0.04 (interest - cost of issue), but when there is a loss we lose the entire 75000/$, hence a high false negative rate can prove to be very costly. \n",
    "\n",
    "\n",
    "\n",
    "\n",
    "\n"
   ]
  },
  {
   "cell_type": "markdown",
   "metadata": {
    "deletable": false,
    "editable": false,
    "nbgrader": {
     "cell_type": "markdown",
     "checksum": "e9d5f47c22e844c8c73d5c868af1d70f",
     "grade": false,
     "grade_id": "cell-2f44d203fb78dca6",
     "locked": true,
     "schema_version": 3,
     "solution": false,
     "task": false
    }
   },
   "source": [
    "## Question 14 (2 marks)\n",
    "\n",
    "Based on your answers to Question 13, which prediction method would you prefer? \n",
    "\n",
    "More generally, provide two pros and two cons of using hierarchical machine learning (such as neural networks) vs. standard regression analysis in the context of credit scoring."
   ]
  },
  {
   "cell_type": "markdown",
   "metadata": {
    "deletable": false,
    "editable": false,
    "nbgrader": {
     "cell_type": "markdown",
     "checksum": "9e5b44322ae4bd91ddc1ef866bcbaec8",
     "grade": false,
     "grade_id": "cell-f947e53f4d24463b",
     "locked": true,
     "schema_version": 3,
     "solution": false,
     "task": false
    }
   },
   "source": [
    "#### Write your answer below (Remove any existing text)"
   ]
  },
  {
   "cell_type": "markdown",
   "metadata": {
    "deletable": false,
    "nbgrader": {
     "cell_type": "markdown",
     "checksum": "a8a75c68ca7cd8faf8eebb67657c8321",
     "grade": true,
     "grade_id": "cell-75a935739088ca2f",
     "locked": false,
     "points": 2,
     "schema_version": 3,
     "solution": true,
     "task": false
    }
   },
   "source": [
    "The results from question 13 reinforces the importance of minimising the wrong classification of bad borrowers as they would not default (false negatives). Despite the logit model predictions having 18 more good loans (true negative rate) than the neural network prediction, the higher losses from the bad loans (false negatives) had a drastic negative effect on its income. \n",
    "Hence, we would prefer a method that minimises the false negative rate and hence the neural network with 16 units and 1 layer.\\\n",
    "The pros of using hierarchical machine learning (such as neural network) in the context of credit scoring are:\n",
    "   * Neural networks are useful in identifying complex non linear relationships between dependant and independent variable, in our case the business' that would default (dependant variable) based on features used for loan approval. The hidden layers in neural network enable you to find patterns of patterns while for regressions you need to specify the pattern you are looking for ex-ante. \n",
    "   * Machine learning can compute all possible interactions between predictor variables which may be useful and perform well with large datasets, since there are usually a high volume of loan applications to process, machine learning can be more useful.\n",
    "   \n",
    "The cons of using hierarchical machine learning (such as neural network) instead of standard regression analysis in the context of credit scoring are:\n",
    "   * The hidden layers act as a black box, it can be difficult to understand why a neural network has deemed a predictor variable relevant for predicting default. In terms of credit scoring, if a person is denied a loan, they would want to know why their application is rejected, if we use ML, it would be difficult to pick the particular factor that resulted in the model to predict that the borrower would default (low interpretability).\n",
    "   * Neural networks are prone to overfitting and hence can lead to inaccurate predictions of default which can be disastrous. Since several loan applications are made every year, by different people with different history, it is important for our model to perform well with new data and not work well with only a particular data set."
   ]
  },
  {
   "cell_type": "code",
   "execution_count": null,
   "metadata": {},
   "outputs": [],
   "source": []
  }
 ],
 "metadata": {
  "kernelspec": {
   "display_name": "Python 3.8.13",
   "language": "python",
   "name": "python3"
  },
  "language_info": {
   "codemirror_mode": {
    "name": "ipython",
    "version": 3
   },
   "file_extension": ".py",
   "mimetype": "text/x-python",
   "name": "python",
   "nbconvert_exporter": "python",
   "pygments_lexer": "ipython3",
   "version": "3.8.13"
  },
  "latex_envs": {
   "LaTeX_envs_menu_present": false,
   "autoclose": true,
   "autocomplete": true,
   "bibliofile": "biblio.bib",
   "cite_by": "apalike",
   "current_citInitial": 1,
   "eqLabelWithNumbers": true,
   "eqNumInitial": 1,
   "hotkeys": {
    "equation": "Ctrl-E",
    "itemize": "Ctrl-I"
   },
   "labels_anchors": false,
   "latex_user_defs": false,
   "report_style_numbering": false,
   "user_envs_cfg": false
  },
  "varInspector": {
   "cols": {
    "lenName": 16,
    "lenType": 16,
    "lenVar": 40
   },
   "kernels_config": {
    "python": {
     "delete_cmd_postfix": "",
     "delete_cmd_prefix": "del ",
     "library": "var_list.py",
     "varRefreshCmd": "print(var_dic_list())"
    },
    "r": {
     "delete_cmd_postfix": ") ",
     "delete_cmd_prefix": "rm(",
     "library": "var_list.r",
     "varRefreshCmd": "cat(var_dic_list()) "
    }
   },
   "types_to_exclude": [
    "module",
    "function",
    "builtin_function_or_method",
    "instance",
    "_Feature"
   ],
   "window_display": false
  },
  "vscode": {
   "interpreter": {
    "hash": "0c8ff9150cc796902298ec52b5115e0f1f4f1773b1f4c5ddde98975e31aced34"
   }
  }
 },
 "nbformat": 4,
 "nbformat_minor": 4
}
